{
  "nbformat": 4,
  "nbformat_minor": 0,
  "metadata": {
    "colab": {
      "name": "Bio informatika - Tugas 1.ipynb",
      "version": "0.3.2",
      "provenance": [],
      "collapsed_sections": [],
      "include_colab_link": true
    },
    "kernelspec": {
      "display_name": "Python 3",
      "language": "python",
      "name": "python3"
    }
  },
  "cells": [
    {
      "cell_type": "markdown",
      "metadata": {
        "id": "view-in-github",
        "colab_type": "text"
      },
      "source": [
        "[View in Colaboratory](https://colab.research.google.com/github/satria1697/Tugas-Bioinformatika-1/blob/master/Bio_informatika_Tugas_1.ipynb)"
      ]
    },
    {
      "metadata": {
        "id": "7nOLE7T3GXKc",
        "colab_type": "code",
        "colab": {
          "base_uri": "https://localhost:8080/",
          "height": 164
        },
        "outputId": "52a0dff9-4dc1-44eb-a083-719eaaa6ebf1"
      },
      "cell_type": "code",
      "source": [
        "import numpy as np\n",
        "import pandas as pd\n",
        "!pip install -U -q PyDrive\n",
        "import os\n",
        "from pydrive.auth import GoogleAuth\n",
        "from pydrive.drive import GoogleDrive\n",
        "from google.colab import auth\n",
        "from oauth2client.client import GoogleCredentials\n",
        "\n",
        "# 1. Authenticate and create the PyDrive client.\n",
        "auth.authenticate_user()\n",
        "gauth = GoogleAuth()\n",
        "gauth.credentials = GoogleCredentials.get_application_default()\n",
        "drive = GoogleDrive(gauth)\n",
        "\n",
        "# choose a local (colab) directory to store the data.\n",
        "local_download_path = os.path.expanduser('~/data')\n",
        "try:\n",
        "  os.makedirs(local_download_path)\n",
        "except: pass\n",
        "\n",
        "# 2. Auto-iterate using the query syntax\n",
        "# https://developers.google.com/drive/v2/web/search-parameters\n",
        "file_list = drive.ListFile(\n",
        "    {'q': \"'15roFaIopUwlSYoc6RZvD4dwbHXQCM7p1' in parents\"}).GetList()\n",
        "\n",
        "for f in file_list:\n",
        "  # 3. Create & download by id.\n",
        "  print('title: %s, id: %s' % (f['title'], f['id']))\n",
        "  fname = os.path.join(local_download_path, f['title'])\n",
        "  print('downloading to {}'.format(fname))\n",
        "  f_ = drive.CreateFile({'id': f['id']})\n",
        "  f_.GetContentFile(fname)"
      ],
      "execution_count": 1,
      "outputs": [
        {
          "output_type": "stream",
          "text": [
            "title: Bioinformatika - Needleman Wunsch.ipynb, id: 149tmcFVZH9EiiYlw9NifYsQNqZl3Uvvl\n",
            "downloading to /root/data/Bioinformatika - Needleman Wunsch.ipynb\n",
            "title: Blosum.txt, id: 143uePZGJokCLKtLao2ow4Qeh-ZKhnc0G\n",
            "downloading to /root/data/Blosum.txt\n",
            "title: Untitled1.ipynb, id: 1Fowut5AO9O9sYLQXdpsyKL-jCspptrcG\n",
            "downloading to /root/data/Untitled1.ipynb\n",
            "title: Untitled0.ipynb, id: 1eu_Ua9LYShiUahTpPdQOGgb4GSZ4Awur\n",
            "downloading to /root/data/Untitled0.ipynb\n"
          ],
          "name": "stdout"
        }
      ]
    },
    {
      "metadata": {
        "id": "gcL9ek3aGXLa",
        "colab_type": "code",
        "colab": {
          "base_uri": "https://localhost:8080/",
          "height": 513
        },
        "outputId": "51ed1219-dac1-444c-99ef-114c151c4fc6"
      },
      "cell_type": "code",
      "source": [
        "X = 'NALMSQA'\n",
        "Y = 'MNALQM'\n",
        "\n",
        "blosum = pd.read_csv(\"/root/data/Blosum.txt\", delim_whitespace=True)\n",
        "print(blosum)"
      ],
      "execution_count": 2,
      "outputs": [
        {
          "output_type": "stream",
          "text": [
            "   A  R  N  D  C  Q  E  G  H  I ...  P  S  T   W  Y  V  B  Z  X  *\n",
            "A  4 -1 -2 -2  0 -1 -1  0 -2 -1 ... -1  1  0  -3 -2  0 -2 -1  0 -4\n",
            "R -1  5  0 -2 -3  1  0 -2  0 -3 ... -2 -1 -1  -3 -2 -3 -1  0 -1 -4\n",
            "N -2  0  6  1 -3  0  0  0  1 -3 ... -2  1  0  -4 -2 -3  3  0 -1 -4\n",
            "D -2 -2  1  6 -3  0  2 -1 -1 -3 ... -1  0 -1  -4 -3 -3  4  1 -1 -4\n",
            "C  0 -3 -3 -3  9 -3 -4 -3 -3 -1 ... -3 -1 -1  -2 -2 -1 -3 -3 -2 -4\n",
            "Q -1  1  0  0 -3  5  2 -2  0 -3 ... -1  0 -1  -2 -1 -2  0  3 -1 -4\n",
            "E -1  0  0  2 -4  2  5 -2  0 -3 ... -1  0 -1  -3 -2 -2  1  4 -1 -4\n",
            "G  0 -2  0 -1 -3 -2 -2  6 -2 -4 ... -2  0 -2  -2 -3 -3 -1 -2 -1 -4\n",
            "H -2  0  1 -1 -3  0  0 -2  8 -3 ... -2 -1 -2  -2  2 -3  0  0 -1 -4\n",
            "I -1 -3 -3 -3 -1 -3 -3 -4 -3  4 ... -3 -2 -1  -3 -1  3 -3 -3 -1 -4\n",
            "L -1 -2 -3 -4 -1 -2 -3 -4 -3  2 ... -3 -2 -1  -2 -1  1 -4 -3 -1 -4\n",
            "K -1  2  0 -1 -3  1  1 -2 -1 -3 ... -1  0 -1  -3 -2 -2  0  1 -1 -4\n",
            "M -1 -1 -2 -3 -1  0 -2 -3 -2  1 ... -2 -1 -1  -1 -1  1 -3 -1 -1 -4\n",
            "F -2 -3 -3 -3 -2 -3 -3 -3 -1  0 ... -4 -2 -2   1  3 -1 -3 -3 -1 -4\n",
            "P -1 -2 -2 -1 -3 -1 -1 -2 -2 -3 ...  7 -1 -1  -4 -3 -2 -2 -1 -2 -4\n",
            "S  1 -1  1  0 -1  0  0  0 -1 -2 ... -1  4  1  -3 -2 -2  0  0  0 -4\n",
            "T  0 -1  0 -1 -1 -1 -1 -2 -2 -1 ... -1  1  5  -2 -2  0 -1 -1  0 -4\n",
            "W -3 -3 -4 -4 -2 -2 -3 -2 -2 -3 ... -4 -3 -2  11  2 -3 -4 -3 -2 -4\n",
            "Y -2 -2 -2 -3 -2 -1 -2 -3  2 -1 ... -3 -2 -2   2  7 -1 -3 -2 -1 -4\n",
            "V  0 -3 -3 -3 -1 -2 -2 -3 -3  3 ... -2 -2  0  -3 -1  4 -3 -2 -1 -4\n",
            "B -2 -1  3  4 -3  0  1 -1  0 -3 ... -2  0 -1  -4 -3 -3  4  1 -1 -4\n",
            "Z -1  0  0  1 -3  3  4 -2  0 -3 ... -1  0 -1  -3 -2 -2  1  4 -1 -4\n",
            "X  0 -1 -1 -1 -2 -1 -1 -1 -1 -1 ... -2  0  0  -2 -1 -1 -1 -1 -1 -4\n",
            "* -4 -4 -4 -4 -4 -4 -4 -4 -4 -4 ... -4 -4 -4  -4 -4 -4 -4 -4 -4  1\n",
            "\n",
            "[24 rows x 24 columns]\n"
          ],
          "name": "stdout"
        }
      ]
    },
    {
      "metadata": {
        "id": "IIctP1K4GXL5",
        "colab_type": "code",
        "colab": {}
      },
      "cell_type": "code",
      "source": [
        "X = list(\"*\") + list(X)\n",
        "Y = list(\"*\") + list(Y)"
      ],
      "execution_count": 0,
      "outputs": []
    },
    {
      "metadata": {
        "id": "misfbhYfGXMm",
        "colab_type": "code",
        "colab": {
          "base_uri": "https://localhost:8080/",
          "height": 55
        },
        "outputId": "d0d1dd20-f10f-4dfe-8de6-11f79c9785ce"
      },
      "cell_type": "code",
      "source": [
        "A = [[0 for x in range(len(Y))] for x in range(len(X))]\n",
        "print(A)\n",
        "\n",
        "d = -6"
      ],
      "execution_count": 4,
      "outputs": [
        {
          "output_type": "stream",
          "text": [
            "[[0, 0, 0, 0, 0, 0, 0], [0, 0, 0, 0, 0, 0, 0], [0, 0, 0, 0, 0, 0, 0], [0, 0, 0, 0, 0, 0, 0], [0, 0, 0, 0, 0, 0, 0], [0, 0, 0, 0, 0, 0, 0], [0, 0, 0, 0, 0, 0, 0], [0, 0, 0, 0, 0, 0, 0]]\n"
          ],
          "name": "stdout"
        }
      ]
    },
    {
      "metadata": {
        "id": "eLgKb6qEGXNG",
        "colab_type": "code",
        "colab": {}
      },
      "cell_type": "code",
      "source": [
        "for i in range (0,len(X)):\n",
        "    A[i][0] = d*i\n",
        "for j in range (0,len(Y)):\n",
        "    A[0][j] = d*j\n",
        "for i in range (1,len(X)):\n",
        "    for j in range (1,len(Y)):\n",
        "        Diagonal = A[i-1][j-1] + blosum[X[i]][Y[j]]\n",
        "        Atas = A[i-1][j] + d\n",
        "        Samping = A[i][j-1] + d\n",
        "        A[i][j] = max(Diagonal, Atas, Samping)"
      ],
      "execution_count": 0,
      "outputs": []
    },
    {
      "metadata": {
        "id": "A-HOKzpgGXNe",
        "colab_type": "code",
        "colab": {}
      },
      "cell_type": "code",
      "source": [
        "AlignmentX = ''\n",
        "AlignmentY = ''\n",
        "i = len(X)-1\n",
        "j = len(Y)-1\n",
        "while(i>0 or j>0):\n",
        "    if (i>0 and j>0 and A[i][j] == A[i-1][j-1] + blosum[X[i]][Y[j]]):\n",
        "        AlignmentX = X[i] + AlignmentX\n",
        "        AlignmentY = Y[j] + AlignmentY\n",
        "        i = i-1\n",
        "        j = j-1\n",
        "    elif (i>0 and A[i][j] == A[i-1][j] + d):\n",
        "        AlignmentX = X[i] + AlignmentX\n",
        "        AlignmentY = '-' + AlignmentY\n",
        "        i = i-1\n",
        "    elif (j>0 and A[i][j] == A[i][j-1] + d):\n",
        "        AlignmentX = '-' + AlignmentX\n",
        "        AlignmentY = Y[i] + AlignmentY\n",
        "        j = j-1"
      ],
      "execution_count": 0,
      "outputs": []
    },
    {
      "metadata": {
        "id": "AuChIy_OGXN6",
        "colab_type": "code",
        "colab": {
          "base_uri": "https://localhost:8080/",
          "height": 35
        },
        "outputId": "18d759e8-f247-4755-a887-6d2169931882"
      },
      "cell_type": "code",
      "source": [
        "AlignmentY"
      ],
      "execution_count": 7,
      "outputs": [
        {
          "output_type": "execute_result",
          "data": {
            "text/plain": [
              "'*NAL--QM'"
            ]
          },
          "metadata": {
            "tags": []
          },
          "execution_count": 7
        }
      ]
    },
    {
      "metadata": {
        "id": "FjmS2O7HGXOb",
        "colab_type": "code",
        "colab": {
          "base_uri": "https://localhost:8080/",
          "height": 35
        },
        "outputId": "d5594e52-b256-485f-82fb-44232c99b128"
      },
      "cell_type": "code",
      "source": [
        "AlignmentX"
      ],
      "execution_count": 8,
      "outputs": [
        {
          "output_type": "execute_result",
          "data": {
            "text/plain": [
              "'-NALMSQA'"
            ]
          },
          "metadata": {
            "tags": []
          },
          "execution_count": 8
        }
      ]
    },
    {
      "metadata": {
        "id": "qZNNcuHBGXPO",
        "colab_type": "code",
        "colab": {
          "base_uri": "https://localhost:8080/",
          "height": 35
        },
        "outputId": "56e69c33-69a8-458c-d776-f3470e170639"
      },
      "cell_type": "code",
      "source": [
        "len(X)"
      ],
      "execution_count": 9,
      "outputs": [
        {
          "output_type": "execute_result",
          "data": {
            "text/plain": [
              "8"
            ]
          },
          "metadata": {
            "tags": []
          },
          "execution_count": 9
        }
      ]
    }
  ]
}